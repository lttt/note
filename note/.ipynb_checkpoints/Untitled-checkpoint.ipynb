{
 "cells": [
  {
   "cell_type": "markdown",
   "metadata": {},
   "source": [
    "## java同步类库\n",
    "### countDownLatch\n",
    "延迟线程状态，可以使一个或一组线程等待一组事件的发生。\n",
    " await：等待计数器为0\n",
    " countDown：计数器减1\n",
    " \n",
    "### FutureTask\n",
    "Executor框架中表示异步任务\n",
    "通过Callable来实现（新建对象时传入构造参数）\n",
    "FutureTsk.get:阻塞直到Callable执行完毕\n",
    "### 信号量Semaphore\n",
    "acquire：获取锁\n",
    "release：释放锁\n",
    "* 可以用来构造阻塞对象池，初始化信号量大小为池连接数的大小（也可以用阻塞队列）\n",
    "### 栅栏 CyclicBarrier\n",
    "* 阻塞一组线程直到某个事件发生\n",
    "* 和闭锁不同的是，必须所有线程到达栅栏位置，程序才可以继续执行\n",
    "* await：到达等待，直到所有线程到达，线程被释放"
   ]
  },
  {
   "cell_type": "code",
   "execution_count": null,
   "metadata": {
    "collapsed": true
   },
   "outputs": [],
   "source": []
  }
 ],
 "metadata": {
  "kernelspec": {
   "display_name": "SciJava",
   "language": "groovy",
   "name": "scijava"
  },
  "language_info": {
   "codemirror_mode": "groovy",
   "file_extension": "",
   "mimetype": "",
   "name": "scijava",
   "nbconverter_exporter": "",
   "pygments_lexer": "groovy",
   "version": "1.0"
  }
 },
 "nbformat": 4,
 "nbformat_minor": 2
}
