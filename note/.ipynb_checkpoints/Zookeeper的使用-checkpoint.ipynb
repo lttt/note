{
 "cells": [
  {
   "cell_type": "markdown",
   "metadata": {},
   "source": [
    "##集群和单机\n",
    "\n",
    "\n",
    ">ZK可以部署为集群和单机模式\n",
    ">\n",
    ">单节点模式：\n",
    ">\n",
    ">集群模式：集群quorum，最少需要三个节点。两个节点的集群，比单节点服务稳定性更差。\n",
    ">\n",
    ">集群模式下的zoo.config配置如下：\n",
    ">\n",
    "·zoo.cfg\n",
    "* tickTime=2000（时间单位长度，ms）\n",
    "* dataDir=/var/lib/zookeeper\n",
    "* clientPort=2181\n",
    "* initLimit=5（连接leader的超时时长）\n",
    "* syncLimit=2（与leader不同步的时间差时长）\n",
    "* server.1=zoo1:2888:3888(第一个端口，连接zkserver之间通讯用)\n",
    "* server.2=zoo2:2888:3888\n",
    "* server.3=zoo3:2888:3888·"
   ]
  },
  {
   "cell_type": "code",
   "execution_count": null,
   "metadata": {},
   "outputs": [],
   "source": []
  },
  {
   "cell_type": "code",
   "execution_count": null,
   "metadata": {},
   "outputs": [],
   "source": []
  }
 ],
 "metadata": {
  "kernelspec": {
   "display_name": "SciJava",
   "language": "groovy",
   "name": "scijava"
  },
  "language_info": {
   "codemirror_mode": "groovy",
   "file_extension": "",
   "mimetype": "",
   "name": "scijava",
   "nbconverter_exporter": "",
   "pygments_lexer": "groovy",
   "version": "1.0"
  }
 },
 "nbformat": 4,
 "nbformat_minor": 2
}
