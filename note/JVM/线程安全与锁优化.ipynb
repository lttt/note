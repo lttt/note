{
 "cells": [
  {
   "cell_type": "markdown",
   "metadata": {},
   "source": [
    "# 1.线程安全\n",
    "## 1.java中线程安全\n",
    "java语言中共享的数据分为以下几类：\n",
    "* 不可变\n",
    "* 绝对线程安全\n",
    "* 相对线程安全\n",
    "* 线程兼容\n",
    "* 线程对立\n",
    "\n",
    "## 2.线程安全的实现方法\n",
    "* 互斥同步\n",
    "    + synchronized：使用monitorenter与monitorexit（需要锁定的对象）／可重入\n",
    "    + ReentranLock，增加高级功能（等待中断／可实现公平锁等）\n",
    "    + jdk1.5之前synchronized多线程环境下，吞吐量下降严重，1.6之后，与reentrantLock无明显差异\n",
    "* 非阻塞同步\n",
    "    + CAS类库\n",
    "    + 使用Unsafe类库。该类库不是给用户调用的类，限制类bootstrap类加载器加载的类才可以使用。突破次限制的使用方法有：\n",
    "        1. 反射\n",
    "        2. 通过API来间接使用\n",
    "* 无同步\n",
    "    + 可重入代码（纯代码，无共享操作，在任意时刻中断他并执行另外一段代码，控制权返回后不会出现任何问题）\n",
    "    + 线程本地存储\n",
    "    \n",
    "## 3.锁优化\n",
    "* 自旋锁：\n",
    "    + 可通过-XX:useSpining（开启自旋锁）  -XX：preLockSpin（次数，默认10次）\n",
    "    + jdk1.6之后，引入了自适应自旋锁\n",
    "* 锁消除：\n",
    "    + 虚拟机在编译器运行时，会消除一些代码上同步但是实际上不可能存在共享数据的锁\n",
    "    + 实际代码中可能会出现很多自动优化产生的锁，如字符串的+操作可能转换成StringBuffer的append操作，这是一个同步操作\n",
    "* 锁粗化\n",
    "    + 同步块的范围应该控制的尽量小，可是不应该出现一连串反复针对同一对象的加锁与释放锁，会造成性能损耗\n",
    "* 轻量级锁\n",
    "    + 使用CAS\n",
    "* 偏向锁\n",
    " + 可以通过-XX:useBiasedLock来设置，表示锁会偏向第一个使用他的线程，若该锁没有被其他线程获取，第一次获得锁的线程永远不需再进行同步。\n",
    " + 可以提高有同步但无竞争的程序性能"
   ]
  },
  {
   "cell_type": "code",
   "execution_count": null,
   "metadata": {
    "collapsed": true
   },
   "outputs": [],
   "source": []
  }
 ],
 "metadata": {
  "kernelspec": {
   "display_name": "SciJava",
   "language": "groovy",
   "name": "scijava"
  },
  "language_info": {
   "codemirror_mode": "groovy",
   "file_extension": "",
   "mimetype": "",
   "name": "scijava",
   "nbconverter_exporter": "",
   "pygments_lexer": "groovy",
   "version": "1.0"
  }
 },
 "nbformat": 4,
 "nbformat_minor": 2
}
