{
 "cells": [
  {
   "cell_type": "markdown",
   "metadata": {},
   "source": [
    "| 虚拟机参数           |配置举例     |含义 |\n",
    "| -------------         |:-------------:| -----:|\n",
    "| -Xmx               | -Xmx3550m    |虚拟机最大堆内存大小 |\n",
    "| -Xms               |  -Xms3550m   | 虚拟机初始堆内存大小|\n",
    "| -XX：MaxPermSize       |           | 永久带大小限制|\n",
    "|-Xnoclassgc           |           |是否进行类回收\n",
    "|-verbose：class        |           |查看类加载卸载信息（Product版的虚拟机）\n",
    "|-XX：+TraceClassLoading   |          |查看类加载 信息（Product版的虚拟机）\n",
    "|-XX：+TraceClassUnLoading  |          }查看类卸载信息（Fast Debug版的虚拟机）"
   ]
  },
  {
   "cell_type": "code",
   "execution_count": null,
   "metadata": {},
   "outputs": [],
   "source": []
  }
 ],
 "metadata": {
  "kernelspec": {
   "display_name": "SciJava",
   "language": "groovy",
   "name": "scijava"
  },
  "language_info": {
   "codemirror_mode": "groovy",
   "file_extension": "",
   "mimetype": "",
   "name": "scijava",
   "nbconverter_exporter": "",
   "pygments_lexer": "groovy",
   "version": "1.0"
  }
 },
 "nbformat": 4,
 "nbformat_minor": 2
}
