{
 "cells": [
  {
   "cell_type": "markdown",
   "metadata": {},
   "source": [
    "# 概述：\n",
    "JavaTM Language Specification (JLS)相对于原始规范的两处改变\n",
    "1. volatile：访问需要加锁，与释放锁机制\n",
    "2. final：增加了无需同步的访问机制，保证不同线程间共享的不变性。\n",
    "\n",
    "\n",
    "## 锁"
   ]
  },
  {
   "cell_type": "markdown",
   "metadata": {},
   "source": []
  }
 ],
 "metadata": {
  "kernelspec": {
   "display_name": "SciJava",
   "language": "groovy",
   "name": "scijava"
  },
  "language_info": {
   "codemirror_mode": "groovy",
   "file_extension": "",
   "mimetype": "",
   "name": "scijava",
   "nbconverter_exporter": "",
   "pygments_lexer": "groovy",
   "version": "1.0"
  }
 },
 "nbformat": 4,
 "nbformat_minor": 2
}
