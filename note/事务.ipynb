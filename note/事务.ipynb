{
 "cells": [
  {
   "cell_type": "markdown",
   "metadata": {},
   "source": [
    "## 数据库事务定义\n",
    " *  一个事务即一个逻辑工作单元<br/>\n",
    " 不一定只是一个简单的数据库操作，而可能是这样的几个操作的序列，该操作\n",
    "序列将数据库从一个一致状态转换到另一个一致状态，中间无须保证一致性。<br/>\n",
    " 提供原子性保证的系统组成部分是事务管理器（transaction manager），亦称为事务处理\n",
    "监控器（transation processing monitor或TP monitor），C O M M I T (提交)和R O L L B A C K (回滚)操\n",
    "作是其中的关键。\n",
    "\n",
    "### 数据库事务的结束与开始\n",
    " *  一个事务以BEGIN TRANSACTION语句的成功执行开始，以C O M M I T或R O L L B A C K语句的成功执行结束。C O M M I T建立了一个提交点（commit point），在商用数据库产品中亦称为同步点（s y n c p o i n t）。提交点标志着逻辑工作单元的结束，亦标志着数据库处于或应处于一致状态。\n",
    "执行程序中从上一个提交点以来的所有更新操作都被提交，即结果永久保存。在提交点之前所有的更新操作都应看作是不确定（ t e n t a t i v e）的，不确定意味着它们接下来可能被取消（即回滚）。一旦提交，将保证任一个更新操作都不被撤消（这就是“提交”的定义）。\n",
    "*  所有的数据库定位（ database positioning）将消失，所有的元组锁（ tuple lock）都将被\n",
    "释放。这里“数据库定位”指在任意时间点，一个执行程序将具有对某些特定元组的\n",
    "寻址能力（如通过第4章中S Q L的游标），在提交点该寻址能力将消失。“元组锁”将在\n",
    "下一章中解释。注意：有些系统提供可选项使程序实际在从一个事务转向另一事务时\n",
    "仍保持对元组的寻址能力（因此也保持元组锁）。1 4 . 7节将有更进一步的讨论\n",
    "\n",
    "###  oracle的一个事务\n",
    " * 执行COMMIT 语句提交事务。\n",
    " * 执行ROLLBACK 语句撤销事务。\n",
    " * 执行一条数据定义语句，比如CREATE、DROP 或ALTER 等语句。如果该语句执行成功，\n",
    " 那么Oracle 系统会自动执行COMMIT 命令；否则，Oracle 系统会自动执行ROLLBACK 命令。\n",
    " * 执行一个数据控制命令，比如GRANT、REVOKE 等控制命令，这种操作执行完毕，Oracle\n",
    "系统会自动执行COMMIT 命令。\n",
    " * 正常地断开数据库的连接、正常地退出SQL*Plus 环境，则Oracle 系统会自动执行COMMIT\n",
    " 命令；否则，Oracle 系统会自动执行ROLLBACK 命令。\n",
    "\n"
   ]
  },
  {
   "cell_type": "markdown",
   "metadata": {},
   "source": [
    "两阶段提交"
   ]
  },
  {
   "cell_type": "markdown",
   "metadata": {},
   "source": [
    "### 数据库事务的并发问题\n",
    "* 读脏数据（读到未提交的数据）：假设事务T 1在某行上执行了更新操作，然后事务T 2检索了该行，但事务T 1\n",
    "后来以回滚结束。那么事务T 2看到了一个已不存在的行，也可以说是从未存在的行（因\n",
    "为事务T 1可能决不再运行）。\n",
    "* 不可重复读（读到的数据被更新）：假设事务T 1检索了某行，然后事务T 2更新了该行，此后事务T 1再次检索\n",
    "“同一”行。事务T 1检索“同一”行两次但是看到的结果却不同。\n",
    "* 幻影（读到的多行数据被插入新数据）：假设事务T 1检索到一个符合某些条件的行集（例如：所在城市为巴黎的所有的供\n",
    "应商），另假设事务T 2又插入了满足同一条件的新的一行。那么如果这时事务T 1发出相\n",
    "同的检索请求，它将看到一个以前不存在的行—“幻影”。\n"
   ]
  },
  {
   "cell_type": "markdown",
   "metadata": {},
   "source": [
    "### SQL定义的数据库隔离级别\n",
    "* Serializable (串行化)：可避免脏读、不可重复读、幻读的发生。\n",
    "\n",
    "*  Repeatable read (可重复读)：可避免脏读、不可重复读的发生。\n",
    "\n",
    "*  Read committed (读已提交)：可避免脏读的发生。\n",
    "\n",
    "*  Read uncommitted (读未提交)：最低级别，任何情况都无法保证。\n",
    "### 各个隔离级别可保证的并发程度：\n",
    "![alt text](C:\\Users\\liangtiantian6\\Desktop\\tx.PNG)"
   ]
  },
  {
   "cell_type": "code",
   "execution_count": null,
   "metadata": {},
   "outputs": [],
   "source": []
  }
 ],
 "metadata": {
  "kernelspec": {
   "display_name": "SciJava",
   "language": "groovy",
   "name": "scijava"
  },
  "language_info": {
   "codemirror_mode": "groovy",
   "file_extension": "",
   "mimetype": "",
   "name": "scijava",
   "nbconverter_exporter": "",
   "pygments_lexer": "groovy",
   "version": "1.0"
  }
 },
 "nbformat": 4,
 "nbformat_minor": 2
}
