{
 "cells": [
  {
   "cell_type": "markdown",
   "metadata": {},
   "source": [
    "##  数据结构\n",
    "\n",
    "* 表\n",
    "> List接口的实现 arrayList、LinkedList\n",
    "\n",
    "* 栈\n",
    "> Stack接口\n",
    "\n",
    "* 队列\n",
    "> Queue接口\n",
    "> 优先队列 priorityQueue\n",
    "\n",
    "* 集合\n",
    "> Set\n",
    "\n",
    "* Map\n",
    "    HashMap\n",
    "    \n",
    "* 树\n",
    "    红黑树TreeMap\n",
    "\n",
    "\n",
    "##  同步容器\n",
    " \n",
    " * Vector——内部使用数组存储数据，对每个访问操作元素的方法进行同步，保证每次只有一个线程可以读写到\n",
    " * HashTable——Entry数组存储，可以使用客户端加锁的方法\n",
    " * Collections.unmodifiableCollections及其子类：使用包装器，封装了所有修改容器内容的方法\n",
    " \n",
    "##  并发容器：\n",
    " * queue——BlockingQueue。\n",
    " * cocurrentHashMap——更细粒度的锁——分段锁。任意数量的读线程可以访问Map、一定数量的写线程可以并发。\n",
    "     不能进行客户端加锁以防止其他线程的访问。\n",
    "     实现了一些额外的cas操作。\n",
    "     \n",
    "     \n",
    " * CopyOnWriteArrayList——写入时复制\n",
    " \n",
    " * BlockingQueue 生产者消费者模式常用，LinkedBlockingQueue\n"
   ]
  },
  {
   "cell_type": "code",
   "execution_count": null,
   "metadata": {},
   "outputs": [],
   "source": []
  }
 ],
 "metadata": {
  "kernelspec": {
   "display_name": "SciJava",
   "language": "groovy",
   "name": "scijava"
  },
  "language_info": {
   "codemirror_mode": "groovy",
   "file_extension": "",
   "mimetype": "",
   "name": "scijava",
   "nbconverter_exporter": "",
   "pygments_lexer": "groovy",
   "version": "1.0"
  }
 },
 "nbformat": 4,
 "nbformat_minor": 2
}
