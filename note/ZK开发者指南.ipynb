{
 "cells": [
  {
   "cell_type": "markdown",
   "metadata": {},
   "source": [
    "# zookeeper开发者指南\n"
   ]
  },
  {
   "cell_type": "markdown",
   "metadata": {},
   "source": [
    "## 基本概念"
   ]
  },
  {
   "cell_type": "markdown",
   "metadata": {},
   "source": [
    "###   zookeeper数据结构定义\n",
    "####  ZNodes\n",
    "> zookeeper树中的每个节点都是一个Znode。<br />\n",
    "> Znodes维护一个stat结构，其中包含数据更改的版本号，acl更改,和时间戳。<br />\n",
    "> ZooKeeper使用版本号和时间戳这两个数据一起校验缓存的有效性，并协调更新。<br />\n",
    "> 每当一个znode的数据发生变化，版本号就加一。<br />\n",
    "> 例如，每当客户端从zk获取数据时，它也获取了数据的版本。 当客户端执行更新或删除操作时，它必须提供正在更改的znode的数据版本。 如果它提供的版本> > 与实际版本的数据不匹配，则更新将失败。\n",
    "> \n",
    ">znode中有几个需要注意的特性如下\n",
    "* 事件监听\n",
    "* 权限控制\n",
    "* 暂时节点\n",
    "* 序列节点"
   ]
  },
  {
   "cell_type": "markdown",
   "metadata": {},
   "source": [
    "### ZooKeeper的时间定义\n",
    "> zookeeper有多种控制时间的方法：\n",
    "* Zxid <br/>\n",
    "> 每次更改zookeeper状态，都会收到zk的一个唯一标志——zxid（(ZooKeeper Transaction Id），并且zookeeper保证，如果改变a发生在改变b之前，那么azxid一定比b小，反之亦然——若改变a的zxid比b的小，那么a一定发生在b之前。所以，根据zxid可以知道每次zookeeper修改的顺序。\n",
    "* 版本号<br/>\n",
    " > zookeeper的节点每次被改变，该节点的版本号加一。<br/>\n",
    " > zookeeper的节点有三种版本号：\n",
    "> version（zonode改变的次数），\n",
    "> cversion（子节点改变的次数），\n",
    "> aversion（ACL控制数据改变的次数）。\n",
    " \n",
    "* 时钟单位 <br/>\n",
    "\n",
    "> 当使用集群ZooKeeper时，服务器使用自定义时钟单位来完成事件的定时功能，例如状态上传，会话超时，集群之间的连接超时等。 <br/>\n",
    "> zookeeper的会话超时时间要大于两倍自定义时钟单位时长。如果客户端请求会话的超时时间比最小会话超时时长要短，则以zookeeper的会话超时时长为准，并通知客户端这个时长的值。\n",
    "\n",
    "\n",
    "* 实际时间 <br/>\n",
    "> 除了znode和stat的时间戳之外，ZooKeeper不使用实际时钟时间。\n"
   ]
  },
  {
   "cell_type": "markdown",
   "metadata": {},
   "source": [
    "### ZooKeeper的Stat数据结构\n",
    "> 每个znode都有一个stat数据结构，包含以下域:\n",
    ">\n",
    ">* czxid  ——创建该节点的zxid\n",
    ">* mzxid —— 最近一次修改该节点的zxid\n",
    ">* pzxid ——最近一次修改该节点子节点的zxid\n",
    ">* ctime ——节点创建时间,\n",
    ">* mtime ——节点修改时间\n",
    ">* version ——znode改变的版本\n",
    ">* cversion——znode子节点改变的版本\n",
    ">* aversion ——znode权限改变的版本\n",
    ">* ephemeralOwner ——当该节点是暂时节点时存在，表示拥有此节点的会话ID\n",
    ">* dataLength ——该节点数据长度\n",
    ">* numChildren ——子节点个数\n"
   ]
  },
  {
   "cell_type": "markdown",
   "metadata": {},
   "source": [
    "### zookeeper会话\n",
    "> zookeeper客户端通过创建一个连接服务的句柄来创建与zookeeper的会话连接。创建后，该句柄处于CONNECTING（连接中）状态，并且客户端尝试与一台 zookeeper服务端相连接，连接成功后，将转变为CONNECTED（已连接）状态。一个状态正常的句柄，将处于这两种状态，若发生异常（例如会话过期、鉴权失败）或客户端显示关闭了连接，该操作句柄将处于CLOSED（已关闭）状态。<br/>\n",
    "> 创建一个zookeeper会话时，必须提供以下参数：\n",
    "> * 连接主机的IP:port，多个主机用逗号隔开（如\"127.0.0.1:4545\" \"127.0.0.1:3000,127.0.0.1:3001,127.0.0.1:3002\"）。zookeeper客户端将随机选择一个服务主机连接。若该连接失败，则客户端会自动尝试连接列表中的其他服务器，直到建立一个会话连接<br/>\n",
    ">\n",
    "> 在3.2.0版本中，zk添加了如下功能：\n",
    "\n",
    "> 连接字符串中，可以添加一个可选的 chroot（change root）后缀，这种操作会影响该root路径相关的路径（与Unix的chroot相似）。例如，连接字符串为\"127.0.0.1:4545/app/a\" or \"127.0.0.1:3000,127.0.0.1:3001,127.0.0.1:3002/app/a\"时，该连接会设置自己的根路径在\"/app/a\" ，所有其他客户端操作都将基于该根路径。这一特性适用于多服务类型用户使用同一个zookeeper，可以设置不同的根路径。<br/>\n",
    ">\n",
    "> 当客户端句柄成功连接到zookeeper服务器，zookeeper会创建一个会话（64位数字）分配给该客户端句柄。从安全性考虑，zookeeper为 session id 创建了密码并在建立连接时发送给客户端，每个zookeeper都可以获取该密码来校验连接。该客户端连接到不同的zookeeper服务器时，会发送该会话ID给服务端，作为连接握手的一部分。<br/>\n",
    "\n",
    "> * 会话过期时间<br/>\n",
    "> 客户端发送一个请求会话过期时间，服务端会返回一个他可提供的实际会话过期时间。现在关于会话过期时间的限制：必须大于两倍时钟单位时长，小于二十倍时钟单位时长。zookeeper客户端允许与服务端以这种方式协调超市时长。\n",
    ">\n",
    "> 当客户端与服务端断开连接，他会重新在服务器列表中寻找服务器，尤其是正处于会话创建中的服务。当连接重新建立，此次会话将会重新变成Connected（已连接）或EXPIRED（过期）状态。不建议在连接断开时，重新建立会话，一般来说，zookeeper客户端会为你重新连接，我们在客户端设置了内置函数处理连接断开的问题，所以只有在客户端会话过期，会话被强制断开时，再新建会话。<br/>\n",
    ">\n",
    "> 会话过期的处理是由zookeeper服务端完成的，而非客户端。<br/>\n",
    "> 服务端会通过与客户端创建连接时协商好的会话过期时间，来判断该客户端的会话是否过期。\n",
    "> 当服务端在一个过期时间长度内（非心跳时间长度），没有收到客户端的响应，便会判断此次对话为过期，并且删除该回话相关的临时节点，同时通知所有监听该临时节点（Znode）的客户端\n",
    ">\n",
    "> 只有当会话过期的客户端重建与服务端连接后，服务端才会通知其会话过期，修改此次会话为EXPIRED状态，并且通知所有监听此次会话过期事件的客户端。若该客户端一直无法无服务端建立连接，则该会话会一直处在CLOSED状态。\n",
    "\n",
    "\n",
    "\n",
    "Example state transitions for an expired session as seen by the expired session's watcher:\n",
    "\n",
    "'connected' : session is established and client is communicating with cluster (client/server communication is operating properly)\n",
    "\n",
    ".... client is partitioned from the cluster\n",
    "\n",
    "'disconnected' : client has lost connectivity with the cluster\n",
    "\n",
    ".... time elapses, after 'timeout' period the cluster expires the session, nothing is seen by client as it is disconnected from cluster\n",
    "\n",
    ".... time elapses, the client regains network level connectivity with the cluster\n",
    "\n",
    "'expired' : eventually the client reconnects to the cluster, it is then notified of the expiration\n",
    "\n",
    "Another parameter to the ZooKeeper session establishment call is the default watcher. Watchers are notified when any state change occurs in the client. For example if the client loses connectivity to the server the client will be notified, or if the client's session expires, etc... This watcher should consider the initial state to be disconnected (i.e. before any state changes events are sent to the watcher by the client lib). In the case of a new connection, the first event sent to the watcher is typically the session connection event.\n",
    "\n",
    "The session is kept alive by requests sent by the client. If the session is idle for a period of time that would timeout the session, the client will send a PING request to keep the session alive. This PING request not only allows the ZooKeeper server to know that the client is still active, but it also allows the client to verify that its connection to the ZooKeeper server is still active. The timing of the PING is conservative enough to ensure reasonable time to detect a dead connection and reconnect to a new server.\n",
    "\n",
    "Once a connection to the server is successfully established (connected) there are basically two cases where the client lib generates connectionloss (the result code in c binding, exception in Java -- see the API documentation for binding specific details) when either a synchronous or asynchronous operation is performed and one of the following holds:\n",
    "\n",
    "The application calls an operation on a session that is no longer alive/valid\n",
    "\n",
    "The ZooKeeper client disconnects from a server when there are pending operations to that server, i.e., there is a pending asynchronous call.\n",
    "\n",
    "Added in 3.2.0 -- SessionMovedException. There is an internal exception that is generally not seen by clients called the SessionMovedException. This exception occurs because a request was received on a connection for a session which has been reestablished on a different server. The normal cause of this error is a client that sends a request to a server, but the network packet gets delayed, so the client times out and connects to a new server. When the delayed packet arrives at the first server, the old server detects that the session has moved, and closes the client connection. Clients normally do not see this error since they do not read from those old connections. (Old connections are usually closed.) One situation in which this condition can be seen is when two clients try to reestablish the same connection using a saved session id and password. One of the clients will reestablish the connection and the second client will be disconnected (causing the pair to attempt to re-establish its connection/session indefinitely)."
   ]
  },
  {
   "cell_type": "markdown",
   "metadata": {},
   "source": [
    "### zookeeper事件监听\n",
    "\n",
    "> zookeeper所有的读事件：getData(), getChildren(), 和 exists() ， 都可以设置监听。\n",
    "zookeeper关于监听的定义如下：一个监听事件是一个单次的触发事件，当客户端监听的值变化时，监听被触发并通知到客户端。关于这个定义有以下几个要点：\n",
    ">* 单次触发 一个监听事件会在监听数据该白按时被发送到监听该数据的客户端。例如，一个客户端做了如下操作：\n",
    "> `getData(\"/znode1\", true)`<br/>\n",
    "> 那么在这次操作之后，/znode1被删除或改变时，客户端会接收到/znode1的监听通知事件。如果/znode1改变一次后再次改变，客户端不会继续得到之后改变的通知。\n",
    "> * 由zookeeper发送到客户端\n",
    "> \n",
    ">This implies that an event is on the way to the client, but may not reach the client before the successful return code to the change operation reaches the client that initiated the change. Watches are sent asynchronously to watchers. ZooKeeper provides an ordering guarantee: a client will never see a change for which it has set a watch until it first sees the watch event. Network delays or other factors may cause different clients to see watches and return codes from updates at different times. The key point is that everything seen by the different clients will have a consistent order.\n",
    "> * 设置监听数据\n",
    "\n",
    ">This refers to the different ways a node can change. It helps to think of ZooKeeper as maintaining two lists of watches: data watches and child watches. getData() and exists() set data watches. getChildren() sets child watches. Alternatively, it may help to think of watches being set according to the kind of data returned. getData() and exists() return information about the data of the node, whereas getChildren() returns a list of children. Thus, setData() will trigger data watches for the znode being set (assuming the set is successful). A successful create() will trigger a data watch for the znode being created and a child watch for the parent znode. A successful delete() will trigger both a data watch and a child watch (since there can be no more children) for a znode being deleted as well as a child watch for the parent znode.\n",
    "\n",
    "\n",
    "\n",
    "Watches are maintained locally at the ZooKeeper server to which the client is connected. This allows watches to be lightweight to set, maintain, and dispatch. When a client connects to a new server, the watch will be triggered for any session events. Watches will not be received while disconnected from a server. When a client reconnects, any previously registered watches will be reregistered and triggered if needed. In general this all occurs transparently. There is one case where a watch may be missed: a watch for the existence of a znode not yet created will be missed if the znode is created and deleted while disconnected."
   ]
  },
  {
   "cell_type": "markdown",
   "metadata": {},
   "source": [
    "### 基于ACL的访问控制"
   ]
  },
  {
   "cell_type": "markdown",
   "metadata": {},
   "source": [
    "### 可插拔的Zookeeper鉴权"
   ]
  },
  {
   "cell_type": "markdown",
   "metadata": {},
   "source": [
    "### 并发一致性保证\n",
    "> zookeeper提供了高性能，可扩展的服务。高速读写，并且读速度比写速度快。因为zookeeper不保证读操作读操作一定获取到最新数据，这又是由于zookeeper\n",
    "> 如下的一致性保证：\n",
    "\n",
    "> * 顺序一致。 \n",
    "> 客户端发送的更新数据请求，将按照发送顺序来执行\n",
    "> * 原子性 。 \n",
    "> 每个操作都是原子的 \n",
    "> * 单系统视图 。\n",
    "> 系统的客户端视图都是一致的，客户端无论连接哪台服务器都会获得单一的系统视图\n",
    "> * 可靠性 。\n",
    "> 某一数据状态被更新后，被更新状态保持不变，直到下一次客户端的数据更新操作。这种特性有如下两种常应用的推论：\n",
    ">  1. 如果客户端更新操作返回成功，那么该更新操作一定已经完成。在某些故障（通信错误，超时等）时，客户端将不知道更新操作是否成功。 我们采取措施尽量减少失败，但是只有在客户端得到成功返回时，才保证一定更新成功。 （这在Paxos中称为单调性条件。）\n",
    ">  1. 从服务器故障中恢复时，客户端通过读取请求或成功更新已经读取到的任何更新数据都不会回滚。\n",
    "\n",
    ">* 即时性 。系统的客户端视图保证在一定的时间范围内（大约几十秒）是最新的。系统视图若发生变化，则客户端一定会在此规定时间范围内感知此变化，否则说明客户端与服务端连接中断了。\n",
    "\n",
    "> 使用这些一致性保证，可以很容易地在ZooKeeper客户端上创建更高级别的功能，例如leader选举，barriers，队列和读/写可撤销锁，而不需在zookeeper上添加任何功能。\n",
    "\n",
    ">另外 经常有一些开发者误以为zookeeper支持的功能如：<br/ >\n",
    "> * 客户端同步一致视图<br/ >\n",
    "> zookeeper不保证在任何时候，两个不同的客户端都获取完全一致的数据。因为网络延时等因素，一个客户端可能会在其他客户端感知之前更新了数据。譬如存在两个客户端的场景：客户端A和B，如果客户端A吧一个znode znode /a的值从0改为1，然后通知客户端b去读取/a,客户端B有可能读到旧值 0，这取决于客户端连接的服务器。如果要保证A，B 读取到一样的数据，那么B在读取之前，应该调用zookeeper的sync方法，来保证数据一致。<br/ >\n",
    ">   所以，ZooKeeper本身并不能保证所有服务器上的变化都是同步发生的，但是ZooKeeper原语可以用来构造更高层次的功能，来提供有用的客户端同步功能。\n",
    "\n"
   ]
  },
  {
   "cell_type": "markdown",
   "metadata": {},
   "source": [
    "### java客户端连接"
   ]
  },
  {
   "cell_type": "code",
   "execution_count": null,
   "metadata": {},
   "outputs": [],
   "source": []
  }
 ],
 "metadata": {
  "kernelspec": {
   "display_name": "SciJava",
   "language": "groovy",
   "name": "scijava"
  },
  "language_info": {
   "codemirror_mode": "groovy",
   "file_extension": "",
   "mimetype": "",
   "name": "scijava",
   "nbconverter_exporter": "",
   "pygments_lexer": "groovy",
   "version": "1.0"
  }
 },
 "nbformat": 4,
 "nbformat_minor": 2
}
